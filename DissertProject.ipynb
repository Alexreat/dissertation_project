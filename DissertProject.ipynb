{
 "cells": [
  {
   "cell_type": "code",
   "execution_count": 84,
   "id": "0d030733-fa5d-4113-98d6-7a223645af59",
   "metadata": {},
   "outputs": [],
   "source": [
    "import pandas as pd\n",
    "import numpy as np"
   ]
  },
  {
   "cell_type": "code",
   "execution_count": 86,
   "id": "c8002067-10b2-4108-bc1b-b12a47906669",
   "metadata": {},
   "outputs": [],
   "source": [
    "# loading both datasets \n",
    "geo_df  = pd.read_csv(\"GSE50760_norm_counts_TPM_GRCh38.p13_NCBI.tsv\", sep=\"\\t\", index_col=0)\n",
    "tcga_df = pd.read_csv(\"TCGA-COAD.star_tpm.tsv.gz.tsv\", sep=\"\\t\", index_col=0, compression=\"gzip\")"
   ]
  },
  {
   "cell_type": "markdown",
   "id": "859541d1-fc3c-4949-9777-6fc4098d7831",
   "metadata": {},
   "source": [
    "## Data exploration"
   ]
  },
  {
   "cell_type": "code",
   "execution_count": 88,
   "id": "a9390ad9-f310-4dff-8b04-4a49c0ac41d3",
   "metadata": {},
   "outputs": [
    {
     "name": "stdout",
     "output_type": "stream",
     "text": [
      "(39376, 54)\n"
     ]
    }
   ],
   "source": [
    "# Geo size \n",
    "print(geo_df.shape)"
   ]
  },
  {
   "cell_type": "code",
   "execution_count": 89,
   "id": "2bbbc977-1b6e-4c79-8635-42d911090de8",
   "metadata": {},
   "outputs": [
    {
     "name": "stdout",
     "output_type": "stream",
     "text": [
      "(60660, 514)\n"
     ]
    }
   ],
   "source": [
    "#TCGA size\n",
    "print(tcga_df.shape)"
   ]
  },
  {
   "cell_type": "code",
   "execution_count": 93,
   "id": "1f528be8-3300-4205-9d18-5f3f7148f2f2",
   "metadata": {
    "scrolled": true
   },
   "outputs": [
    {
     "name": "stdout",
     "output_type": "stream",
     "text": [
      "GSM1228184    float64\n",
      "GSM1228185    float64\n",
      "GSM1228186    float64\n",
      "GSM1228187    float64\n",
      "GSM1228188    float64\n",
      "GSM1228189    float64\n",
      "GSM1228190    float64\n",
      "GSM1228191    float64\n",
      "GSM1228192    float64\n",
      "GSM1228193    float64\n",
      "GSM1228194    float64\n",
      "GSM1228195    float64\n",
      "GSM1228196    float64\n",
      "GSM1228197    float64\n",
      "GSM1228198    float64\n",
      "GSM1228199    float64\n",
      "GSM1228200    float64\n",
      "GSM1228201    float64\n",
      "GSM1228202    float64\n",
      "GSM1228203    float64\n",
      "GSM1228204    float64\n",
      "GSM1228205    float64\n",
      "GSM1228206    float64\n",
      "GSM1228207    float64\n",
      "GSM1228208    float64\n",
      "GSM1228209    float64\n",
      "GSM1228210    float64\n",
      "GSM1228211    float64\n",
      "GSM1228212    float64\n",
      "GSM1228213    float64\n",
      "GSM1228214    float64\n",
      "GSM1228215    float64\n",
      "GSM1228216    float64\n",
      "GSM1228217    float64\n",
      "GSM1228218    float64\n",
      "GSM1228219    float64\n",
      "GSM1228220    float64\n",
      "GSM1228221    float64\n",
      "GSM1228222    float64\n",
      "GSM1228223    float64\n",
      "GSM1228224    float64\n",
      "GSM1228225    float64\n",
      "GSM1228226    float64\n",
      "GSM1228227    float64\n",
      "GSM1228228    float64\n",
      "GSM1228229    float64\n",
      "GSM1228230    float64\n",
      "GSM1228231    float64\n",
      "GSM1228232    float64\n",
      "GSM1228233    float64\n",
      "GSM1228234    float64\n",
      "GSM1228235    float64\n",
      "GSM1228236    float64\n",
      "GSM1228237    float64\n",
      "dtype: object\n"
     ]
    }
   ],
   "source": [
    "# Data characteristics \n",
    "print (geo_df.dtypes)"
   ]
  },
  {
   "cell_type": "code",
   "execution_count": 95,
   "id": "5dbaedf1-6062-468a-ae2e-25dc60329fe1",
   "metadata": {
    "scrolled": true
   },
   "outputs": [
    {
     "name": "stdout",
     "output_type": "stream",
     "text": [
      "TCGA-5M-AAT6-01A    float64\n",
      "TCGA-AA-3552-01A    float64\n",
      "TCGA-AA-3867-01A    float64\n",
      "TCGA-AD-6895-01A    float64\n",
      "TCGA-AA-3560-01A    float64\n",
      "                     ...   \n",
      "TCGA-AZ-6601-01A    float64\n",
      "TCGA-AA-3672-01A    float64\n",
      "TCGA-AA-3524-01A    float64\n",
      "TCGA-AA-3715-01A    float64\n",
      "TCGA-AA-3531-01A    float64\n",
      "Length: 514, dtype: object\n"
     ]
    }
   ],
   "source": [
    "print (tcga_df.dtypes)"
   ]
  },
  {
   "cell_type": "code",
   "execution_count": 97,
   "id": "82da5489-fa1d-4bbc-bacd-9433fdeb63aa",
   "metadata": {
    "scrolled": true
   },
   "outputs": [
    {
     "name": "stdout",
     "output_type": "stream",
     "text": [
      "<class 'pandas.core.frame.DataFrame'>\n",
      "Index: 39376 entries, 100287102 to 4571\n",
      "Data columns (total 54 columns):\n",
      " #   Column      Non-Null Count  Dtype  \n",
      "---  ------      --------------  -----  \n",
      " 0   GSM1228184  39376 non-null  float64\n",
      " 1   GSM1228185  39376 non-null  float64\n",
      " 2   GSM1228186  39376 non-null  float64\n",
      " 3   GSM1228187  39376 non-null  float64\n",
      " 4   GSM1228188  39376 non-null  float64\n",
      " 5   GSM1228189  39376 non-null  float64\n",
      " 6   GSM1228190  39376 non-null  float64\n",
      " 7   GSM1228191  39376 non-null  float64\n",
      " 8   GSM1228192  39376 non-null  float64\n",
      " 9   GSM1228193  39376 non-null  float64\n",
      " 10  GSM1228194  39376 non-null  float64\n",
      " 11  GSM1228195  39376 non-null  float64\n",
      " 12  GSM1228196  39376 non-null  float64\n",
      " 13  GSM1228197  39376 non-null  float64\n",
      " 14  GSM1228198  39376 non-null  float64\n",
      " 15  GSM1228199  39376 non-null  float64\n",
      " 16  GSM1228200  39376 non-null  float64\n",
      " 17  GSM1228201  39376 non-null  float64\n",
      " 18  GSM1228202  39376 non-null  float64\n",
      " 19  GSM1228203  39376 non-null  float64\n",
      " 20  GSM1228204  39376 non-null  float64\n",
      " 21  GSM1228205  39376 non-null  float64\n",
      " 22  GSM1228206  39376 non-null  float64\n",
      " 23  GSM1228207  39376 non-null  float64\n",
      " 24  GSM1228208  39376 non-null  float64\n",
      " 25  GSM1228209  39376 non-null  float64\n",
      " 26  GSM1228210  39376 non-null  float64\n",
      " 27  GSM1228211  39376 non-null  float64\n",
      " 28  GSM1228212  39376 non-null  float64\n",
      " 29  GSM1228213  39376 non-null  float64\n",
      " 30  GSM1228214  39376 non-null  float64\n",
      " 31  GSM1228215  39376 non-null  float64\n",
      " 32  GSM1228216  39376 non-null  float64\n",
      " 33  GSM1228217  39376 non-null  float64\n",
      " 34  GSM1228218  39376 non-null  float64\n",
      " 35  GSM1228219  39376 non-null  float64\n",
      " 36  GSM1228220  39376 non-null  float64\n",
      " 37  GSM1228221  39376 non-null  float64\n",
      " 38  GSM1228222  39376 non-null  float64\n",
      " 39  GSM1228223  39376 non-null  float64\n",
      " 40  GSM1228224  39376 non-null  float64\n",
      " 41  GSM1228225  39376 non-null  float64\n",
      " 42  GSM1228226  39376 non-null  float64\n",
      " 43  GSM1228227  39376 non-null  float64\n",
      " 44  GSM1228228  39376 non-null  float64\n",
      " 45  GSM1228229  39376 non-null  float64\n",
      " 46  GSM1228230  39376 non-null  float64\n",
      " 47  GSM1228231  39376 non-null  float64\n",
      " 48  GSM1228232  39376 non-null  float64\n",
      " 49  GSM1228233  39376 non-null  float64\n",
      " 50  GSM1228234  39376 non-null  float64\n",
      " 51  GSM1228235  39376 non-null  float64\n",
      " 52  GSM1228236  39376 non-null  float64\n",
      " 53  GSM1228237  39376 non-null  float64\n",
      "dtypes: float64(54)\n",
      "memory usage: 16.5 MB\n",
      "None\n"
     ]
    }
   ],
   "source": [
    "print (geo_df.info())"
   ]
  },
  {
   "cell_type": "code",
   "execution_count": 99,
   "id": "7b5e76d5-6dea-4959-bb2b-25a301adb49b",
   "metadata": {},
   "outputs": [
    {
     "name": "stdout",
     "output_type": "stream",
     "text": [
      "<class 'pandas.core.frame.DataFrame'>\n",
      "Index: 60660 entries, ENSG00000000003.15 to ENSG00000288675.1\n",
      "Columns: 514 entries, TCGA-5M-AAT6-01A to TCGA-AA-3531-01A\n",
      "dtypes: float64(514)\n",
      "memory usage: 238.3+ MB\n",
      "None\n"
     ]
    }
   ],
   "source": [
    "print (tcga_df.info())"
   ]
  },
  {
   "cell_type": "markdown",
   "id": "3106cb19-1a9b-42b3-bac2-2dd166218d1b",
   "metadata": {},
   "source": [
    "## Data standarization "
   ]
  },
  {
   "cell_type": "code",
   "execution_count": 102,
   "id": "5d536a25-0233-44a4-afbf-92a730474e54",
   "metadata": {},
   "outputs": [],
   "source": [
    "# Convering GEO data to standard log2(x+1)\n",
    "geo_df_log2 = np.log2(geo_df+1)"
   ]
  },
  {
   "cell_type": "code",
   "execution_count": 104,
   "id": "2906d04b-a6b0-4299-b4bb-4d3abaec6866",
   "metadata": {},
   "outputs": [
    {
     "name": "stdout",
     "output_type": "stream",
     "text": [
      "Missing values in GEO: 0\n",
      "Missing values in TCGA: 0\n"
     ]
    }
   ],
   "source": [
    "# Count total missing values\n",
    "print(\"Missing values in GEO:\", geo_df_log2.isnull().sum().sum())\n",
    "print(\"Missing values in TCGA:\", tcga_df.isnull().sum().sum())"
   ]
  },
  {
   "cell_type": "markdown",
   "id": "15655965-a13d-4d03-92d6-a5c0ff3a7d3e",
   "metadata": {},
   "source": [
    "### Convert TCGA ensembl code to gene ID"
   ]
  },
  {
   "cell_type": "code",
   "execution_count": 107,
   "id": "fb295a6e-dbf3-4944-97f0-ebdef842cfed",
   "metadata": {
    "scrolled": true
   },
   "outputs": [
    {
     "name": "stdout",
     "output_type": "stream",
     "text": [
      "                    TCGA-5M-AAT6-01A  TCGA-AA-3552-01A  TCGA-AA-3867-01A  \\\n",
      "Ensembl_ID                                                                 \n",
      "ENSG00000000003.15          4.783671          7.069015          7.627462   \n",
      "ENSG00000000005.6           0.343692          0.753776          0.300417   \n",
      "\n",
      "                    TCGA-AD-6895-01A  TCGA-AA-3560-01A  TCGA-CM-6676-01A  \\\n",
      "Ensembl_ID                                                                 \n",
      "ENSG00000000003.15          4.079737          7.155694          7.634865   \n",
      "ENSG00000000005.6           0.000000          2.463518          4.400080   \n",
      "\n",
      "                    TCGA-AA-A029-01A  TCGA-AA-A01C-01A  TCGA-CK-5912-01A  \\\n",
      "Ensembl_ID                                                                 \n",
      "ENSG00000000003.15          5.556540          7.008617          8.092381   \n",
      "ENSG00000000005.6           1.449218          1.368768          1.881704   \n",
      "\n",
      "                    TCGA-AA-A03F-01A  ...  TCGA-AD-6890-01A  TCGA-QL-A97D-01A  \\\n",
      "Ensembl_ID                            ...                                       \n",
      "ENSG00000000003.15          3.945355  ...          6.785581          6.326223   \n",
      "ENSG00000000005.6           1.868252  ...          2.287118          3.207424   \n",
      "\n",
      "                    TCGA-AZ-6608-01A  TCGA-AA-A024-01A  TCGA-G4-6294-01A  \\\n",
      "Ensembl_ID                                                                 \n",
      "ENSG00000000003.15          7.195920          6.337126          7.723703   \n",
      "ENSG00000000005.6           1.622134          2.862193          0.729270   \n",
      "\n",
      "                    TCGA-AZ-6601-01A  TCGA-AA-3672-01A  TCGA-AA-3524-01A  \\\n",
      "Ensembl_ID                                                                 \n",
      "ENSG00000000003.15          6.180285          4.844074          7.323312   \n",
      "ENSG00000000005.6           0.439570          0.889006          3.599580   \n",
      "\n",
      "                    TCGA-AA-3715-01A  TCGA-AA-3531-01A  \n",
      "Ensembl_ID                                              \n",
      "ENSG00000000003.15          3.984945          7.301053  \n",
      "ENSG00000000005.6           0.644133          1.224843  \n",
      "\n",
      "[2 rows x 514 columns]\n"
     ]
    }
   ],
   "source": [
    "print(tcga_df.head(2))"
   ]
  },
  {
   "cell_type": "code",
   "execution_count": 109,
   "id": "ae257a2e-9056-4f52-859b-a089a094c2de",
   "metadata": {
    "scrolled": true
   },
   "outputs": [
    {
     "name": "stdout",
     "output_type": "stream",
     "text": [
      "                 TCGA-5M-AAT6-01A  TCGA-AA-3552-01A  TCGA-AA-3867-01A  \\\n",
      "Ensembl_ID                                                              \n",
      "ENSG00000000003          4.783671          7.069015          7.627462   \n",
      "ENSG00000000005          0.343692          0.753776          0.300417   \n",
      "\n",
      "                 TCGA-AD-6895-01A  TCGA-AA-3560-01A  TCGA-CM-6676-01A  \\\n",
      "Ensembl_ID                                                              \n",
      "ENSG00000000003          4.079737          7.155694          7.634865   \n",
      "ENSG00000000005          0.000000          2.463518          4.400080   \n",
      "\n",
      "                 TCGA-AA-A029-01A  TCGA-AA-A01C-01A  TCGA-CK-5912-01A  \\\n",
      "Ensembl_ID                                                              \n",
      "ENSG00000000003          5.556540          7.008617          8.092381   \n",
      "ENSG00000000005          1.449218          1.368768          1.881704   \n",
      "\n",
      "                 TCGA-AA-A03F-01A  ...  TCGA-AD-6890-01A  TCGA-QL-A97D-01A  \\\n",
      "Ensembl_ID                         ...                                       \n",
      "ENSG00000000003          3.945355  ...          6.785581          6.326223   \n",
      "ENSG00000000005          1.868252  ...          2.287118          3.207424   \n",
      "\n",
      "                 TCGA-AZ-6608-01A  TCGA-AA-A024-01A  TCGA-G4-6294-01A  \\\n",
      "Ensembl_ID                                                              \n",
      "ENSG00000000003          7.195920          6.337126          7.723703   \n",
      "ENSG00000000005          1.622134          2.862193          0.729270   \n",
      "\n",
      "                 TCGA-AZ-6601-01A  TCGA-AA-3672-01A  TCGA-AA-3524-01A  \\\n",
      "Ensembl_ID                                                              \n",
      "ENSG00000000003          6.180285          4.844074          7.323312   \n",
      "ENSG00000000005          0.439570          0.889006          3.599580   \n",
      "\n",
      "                 TCGA-AA-3715-01A  TCGA-AA-3531-01A  \n",
      "Ensembl_ID                                           \n",
      "ENSG00000000003          3.984945          7.301053  \n",
      "ENSG00000000005          0.644133          1.224843  \n",
      "\n",
      "[2 rows x 514 columns]\n"
     ]
    }
   ],
   "source": [
    "# Remove vesrion numbers .00\n",
    "tcga_df.index = tcga_df.index.str.split('.').str[0]\n",
    "print(tcga_df.head(2))"
   ]
  },
  {
   "cell_type": "code",
   "execution_count": 113,
   "id": "1a1f87b6-84c7-4022-9bd0-a0f1d832ec4a",
   "metadata": {},
   "outputs": [
    {
     "name": "stdout",
     "output_type": "stream",
     "text": [
      "           GSM1228184  GSM1228185  GSM1228186  GSM1228187  GSM1228188  \\\n",
      "GeneID                                                                  \n",
      "100287102     0.04069     0.04742        0.00      0.1232     0.08211   \n",
      "653635       11.97000    23.12000       14.69     32.9000    25.65000   \n",
      "102466751     6.91900     9.21700       11.11     32.9200    29.92000   \n",
      "107985730     0.12490     0.00000        0.00      0.1261     0.00000   \n",
      "100302278     0.00000     0.00000        0.00      0.0000     0.00000   \n",
      "\n",
      "           GSM1228189  GSM1228190  GSM1228191  GSM1228192  GSM1228193  ...  \\\n",
      "GeneID                                                                 ...   \n",
      "100287102      0.0397        0.00     0.08563      0.0529     0.06778  ...   \n",
      "653635        22.8000       21.82    17.07000     32.2100    26.11000  ...   \n",
      "102466751     33.7600       19.17     9.36200     19.2800    19.76000  ...   \n",
      "107985730      0.0000        0.00     0.13150      0.1624     0.10410  ...   \n",
      "100302278      0.0000        0.00     0.00000      0.0000     0.00000  ...   \n",
      "\n",
      "           GSM1228228  GSM1228229  GSM1228230  GSM1228231  GSM1228232  \\\n",
      "GeneID                                                                  \n",
      "100287102        0.00      0.0000      0.1172     0.04795     0.02365   \n",
      "653635          28.87     32.2000     35.8400    26.69000    10.45000   \n",
      "102466751       14.87     10.3900     41.2800    12.81000    14.36000   \n",
      "107985730        0.00      0.1459      0.0000     0.00000     0.07261   \n",
      "100302278        0.00      0.0000      0.0000     0.00000     0.00000   \n",
      "\n",
      "           GSM1228233  GSM1228234  GSM1228235  GSM1228236  GSM1228237  \n",
      "GeneID                                                                 \n",
      "100287102     0.04895        0.00      0.1182     0.09933      0.0000  \n",
      "653635       14.54000       16.57     19.3500    19.45000     16.5200  \n",
      "102466751     5.94600       12.64     25.8400    14.48000      9.3060  \n",
      "107985730     0.00000        0.00      0.0000     0.00000      0.1069  \n",
      "100302278     0.00000        0.00      0.0000     0.00000      0.0000  \n",
      "\n",
      "[5 rows x 54 columns]\n"
     ]
    }
   ],
   "source": [
    "# Mapping ensembl ID to gene ID such as BioMart\n",
    "print (geo_df.head())"
   ]
  },
  {
   "cell_type": "code",
   "execution_count": 142,
   "id": "7b6ef246-9b52-405a-82ac-b05c06e6a3b9",
   "metadata": {},
   "outputs": [
    {
     "name": "stdout",
     "output_type": "stream",
     "text": [
      "        Ensembl_ID  GeneID Gene_Name\n",
      "0  ENSG00000210049     NaN     MT-TF\n",
      "1  ENSG00000211459     NaN   MT-RNR1\n",
      "2  ENSG00000210077     NaN     MT-TV\n",
      "3  ENSG00000210082     NaN   MT-RNR2\n",
      "4  ENSG00000209082     NaN    MT-TL1\n"
     ]
    }
   ],
   "source": [
    "# importing dataset from BioMart with gene ID, NCBI and gene name.\n",
    "mapping_df = pd.read_csv(\"mart_export.txt\", sep=\",\")\n",
    "# Renaming for clarity\n",
    "mapping_df.columns = ['Ensembl_ID', 'GeneID', 'Gene_Name']\n",
    "print (mapping_df.head())"
   ]
  },
  {
   "cell_type": "code",
   "execution_count": 144,
   "id": "d67bf1b7-2ad6-4e5f-8ece-6e5998fcf80a",
   "metadata": {},
   "outputs": [
    {
     "name": "stdout",
     "output_type": "stream",
     "text": [
      "         Ensembl_ID       GeneID Gene_Name\n",
      "5   ENSG00000198888       4535.0    MT-ND1\n",
      "9   ENSG00000198763       4536.0    MT-ND2\n",
      "15  ENSG00000198804       4512.0    MT-CO1\n",
      "16  ENSG00000210151  113219467.0    MT-TS1\n",
      "18  ENSG00000198712       4513.0    MT-CO2\n"
     ]
    }
   ],
   "source": [
    "# dropping entries without GeneID (Entrez number)\n",
    "mapping_df = mapping_df.dropna(subset=[\"GeneID\"])\n",
    "print (mapping_df.head())"
   ]
  },
  {
   "cell_type": "code",
   "execution_count": 154,
   "id": "ab19d0c3-aefc-4a0a-afe7-78c121959d4c",
   "metadata": {},
   "outputs": [
    {
     "name": "stdout",
     "output_type": "stream",
     "text": [
      "              Ensembl_ID  TCGA-5M-AAT6-01A  TCGA-AA-3552-01A  \\\n",
      "GeneID                                                         \n",
      "7105.0   ENSG00000000003          4.783671          7.069015   \n",
      "64102.0  ENSG00000000005          0.343692          0.753776   \n",
      "8813.0   ENSG00000000419          6.679223          6.679985   \n",
      "57147.0  ENSG00000000457          2.640366          2.605779   \n",
      "55732.0  ENSG00000000460          2.678906          1.893168   \n",
      "\n",
      "         TCGA-AA-3867-01A  TCGA-AD-6895-01A  TCGA-AA-3560-01A  \\\n",
      "GeneID                                                          \n",
      "7105.0           7.627462          4.079737          7.155694   \n",
      "64102.0          0.300417          0.000000          2.463518   \n",
      "8813.0           7.430763          6.839957          6.019186   \n",
      "57147.0          2.751292          3.088125          2.570706   \n",
      "55732.0          2.264747          2.415056          2.718548   \n",
      "\n",
      "         TCGA-CM-6676-01A  TCGA-AA-A029-01A  TCGA-AA-A01C-01A  \\\n",
      "GeneID                                                          \n",
      "7105.0           7.634865          5.556540          7.008617   \n",
      "64102.0          4.400080          1.449218          1.368768   \n",
      "8813.0           8.255367          6.420393          7.179176   \n",
      "57147.0          3.005328          2.427365          2.063986   \n",
      "55732.0          2.587629          2.130964          2.192226   \n",
      "\n",
      "         TCGA-CK-5912-01A  ...  TCGA-AD-6890-01A  TCGA-QL-A97D-01A  \\\n",
      "GeneID                     ...                                       \n",
      "7105.0           8.092381  ...          6.785581          6.326223   \n",
      "64102.0          1.881704  ...          2.287118          3.207424   \n",
      "8813.0           8.365306  ...          7.007031          7.633015   \n",
      "57147.0          3.542555  ...          2.338282          2.906775   \n",
      "55732.0          3.579397  ...          2.248596          2.911826   \n",
      "\n",
      "         TCGA-AZ-6608-01A  TCGA-AA-A024-01A  TCGA-G4-6294-01A  \\\n",
      "GeneID                                                          \n",
      "7105.0           7.195920          6.337126          7.723703   \n",
      "64102.0          1.622134          2.862193          0.729270   \n",
      "8813.0           7.678110          5.321989          7.670385   \n",
      "57147.0          2.573811          2.258428          2.871745   \n",
      "55732.0          2.524289          1.325502          2.658257   \n",
      "\n",
      "         TCGA-AZ-6601-01A  TCGA-AA-3672-01A  TCGA-AA-3524-01A  \\\n",
      "GeneID                                                          \n",
      "7105.0           6.180285          4.844074          7.323312   \n",
      "64102.0          0.439570          0.889006          3.599580   \n",
      "8813.0           6.678576          4.898368          8.134329   \n",
      "57147.0          2.845490          2.309846          3.088176   \n",
      "55732.0          3.065710          2.382003          3.300578   \n",
      "\n",
      "         TCGA-AA-3715-01A  TCGA-AA-3531-01A  \n",
      "GeneID                                       \n",
      "7105.0           3.984945          7.301053  \n",
      "64102.0          0.644133          1.224843  \n",
      "8813.0           4.894037          6.816289  \n",
      "57147.0          2.601435          2.467566  \n",
      "55732.0          3.107387          3.257524  \n",
      "\n",
      "[5 rows x 515 columns]\n"
     ]
    }
   ],
   "source": [
    "# mergin with mapping to TCGA data \n",
    "tcga_mapped = pd.merge(tcga_df, mapping_df[['Ensembl_ID', 'GeneID']], on='Ensembl_ID')\n",
    "# Set GeneID as index\n",
    "tcga_mapped = tcga_mapped.set_index('GeneID')\n",
    "print(tcga_mapped.head())"
   ]
  },
  {
   "cell_type": "code",
   "execution_count": 160,
   "id": "20b164f2-bfaf-4fb1-bac5-7441da126d49",
   "metadata": {},
   "outputs": [
    {
     "name": "stdout",
     "output_type": "stream",
     "text": [
      "(29541, 515)\n"
     ]
    }
   ],
   "source": [
    "print(tcga_mapped.shape)"
   ]
  },
  {
   "cell_type": "code",
   "execution_count": 170,
   "id": "f5ca3004-ff8c-4088-b0ed-93e074ea5baa",
   "metadata": {},
   "outputs": [
    {
     "data": {
      "text/plain": [
       "Index([102466751.0, 100302278.0,     79501.0, 102465909.0,    729759.0,\n",
       "       113219467.0,     81399.0,    400728.0,    643837.0,    284593.0,\n",
       "       ...\n",
       "            4513.0,      4509.0,      4508.0,      4514.0,      4537.0,\n",
       "            4539.0,      4538.0,      4540.0,      4541.0,      4519.0],\n",
       "      dtype='float64', name='GeneID', length=25515)"
      ]
     },
     "execution_count": 170,
     "metadata": {},
     "output_type": "execute_result"
    }
   ],
   "source": [
    "# Checking for common genes \n",
    "common_genes = geo_df.index.intersection(tcga_mapped.index)\n",
    "common_genes"
   ]
  },
  {
   "cell_type": "code",
   "execution_count": 176,
   "id": "94edd72a-f3fe-4b86-b2d0-47eebd91b240",
   "metadata": {},
   "outputs": [],
   "source": [
    "# Convering dataset to int\n",
    "common_genes = common_genes.astype(int)\n",
    "geo_df.index = geo_df.index.astype(int)\n",
    "tcga_mapped.index = tcga_mapped.index.astype(int)"
   ]
  },
  {
   "cell_type": "code",
   "execution_count": 179,
   "id": "4a66db89-286a-4071-b714-5d8e6e129382",
   "metadata": {},
   "outputs": [],
   "source": [
    "# Subsetting by common genes \n",
    "geo_aligned = geo_df.loc[common_genes]\n",
    "tcga_aligned = tcga_mapped.loc[common_genes]"
   ]
  },
  {
   "cell_type": "code",
   "execution_count": 197,
   "id": "4ed426ab-b28a-49bf-8aa7-4ea77cc80e2a",
   "metadata": {},
   "outputs": [
    {
     "name": "stdout",
     "output_type": "stream",
     "text": [
      "(25515, 54)\n",
      "(25722, 515)\n"
     ]
    }
   ],
   "source": [
    "print(geo_aligned.shape)\n",
    "print(tcga_aligned.shape)"
   ]
  },
  {
   "cell_type": "code",
   "execution_count": null,
   "id": "f7a27b3a-58eb-4802-a690-150e6fef9b2d",
   "metadata": {},
   "outputs": [],
   "source": []
  }
 ],
 "metadata": {
  "kernelspec": {
   "display_name": "Python [conda env:base] *",
   "language": "python",
   "name": "conda-base-py"
  },
  "language_info": {
   "codemirror_mode": {
    "name": "ipython",
    "version": 3
   },
   "file_extension": ".py",
   "mimetype": "text/x-python",
   "name": "python",
   "nbconvert_exporter": "python",
   "pygments_lexer": "ipython3",
   "version": "3.12.7"
  }
 },
 "nbformat": 4,
 "nbformat_minor": 5
}
