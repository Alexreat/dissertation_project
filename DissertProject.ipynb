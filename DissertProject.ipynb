{
 "cells": [
  {
   "cell_type": "code",
   "execution_count": 1,
   "id": "0d030733-fa5d-4113-98d6-7a223645af59",
   "metadata": {},
   "outputs": [],
   "source": [
    "import pandas as pd\n",
    "import numpy as np\n",
    "import cobra"
   ]
  },
  {
   "cell_type": "code",
   "execution_count": 2,
   "id": "c8002067-10b2-4108-bc1b-b12a47906669",
   "metadata": {},
   "outputs": [],
   "source": [
    "# loading both datasets \n",
    "geo_df  = pd.read_csv(\"GSE50760_norm_counts_TPM_GRCh38.p13_NCBI.tsv\", sep=\"\\t\", index_col=0)\n",
    "tcga_df = pd.read_csv(\"TCGA-COAD.star_tpm.tsv.gz.tsv\", sep=\"\\t\", index_col=0, compression=\"gzip\")"
   ]
  },
  {
   "cell_type": "markdown",
   "id": "859541d1-fc3c-4949-9777-6fc4098d7831",
   "metadata": {},
   "source": [
    "## Data exploration"
   ]
  },
  {
   "cell_type": "code",
   "execution_count": 4,
   "id": "a9390ad9-f310-4dff-8b04-4a49c0ac41d3",
   "metadata": {},
   "outputs": [
    {
     "name": "stdout",
     "output_type": "stream",
     "text": [
      "(39376, 54)\n"
     ]
    }
   ],
   "source": [
    "# Geo size \n",
    "print(geo_df.shape)"
   ]
  },
  {
   "cell_type": "code",
   "execution_count": 5,
   "id": "2bbbc977-1b6e-4c79-8635-42d911090de8",
   "metadata": {},
   "outputs": [
    {
     "name": "stdout",
     "output_type": "stream",
     "text": [
      "(60660, 514)\n"
     ]
    }
   ],
   "source": [
    "#TCGA size\n",
    "print(tcga_df.shape)"
   ]
  },
  {
   "cell_type": "code",
   "execution_count": 6,
   "id": "1f528be8-3300-4205-9d18-5f3f7148f2f2",
   "metadata": {
    "scrolled": true
   },
   "outputs": [
    {
     "name": "stdout",
     "output_type": "stream",
     "text": [
      "GSM1228184    float64\n",
      "GSM1228185    float64\n",
      "GSM1228186    float64\n",
      "GSM1228187    float64\n",
      "GSM1228188    float64\n",
      "GSM1228189    float64\n",
      "GSM1228190    float64\n",
      "GSM1228191    float64\n",
      "GSM1228192    float64\n",
      "GSM1228193    float64\n",
      "GSM1228194    float64\n",
      "GSM1228195    float64\n",
      "GSM1228196    float64\n",
      "GSM1228197    float64\n",
      "GSM1228198    float64\n",
      "GSM1228199    float64\n",
      "GSM1228200    float64\n",
      "GSM1228201    float64\n",
      "GSM1228202    float64\n",
      "GSM1228203    float64\n",
      "GSM1228204    float64\n",
      "GSM1228205    float64\n",
      "GSM1228206    float64\n",
      "GSM1228207    float64\n",
      "GSM1228208    float64\n",
      "GSM1228209    float64\n",
      "GSM1228210    float64\n",
      "GSM1228211    float64\n",
      "GSM1228212    float64\n",
      "GSM1228213    float64\n",
      "GSM1228214    float64\n",
      "GSM1228215    float64\n",
      "GSM1228216    float64\n",
      "GSM1228217    float64\n",
      "GSM1228218    float64\n",
      "GSM1228219    float64\n",
      "GSM1228220    float64\n",
      "GSM1228221    float64\n",
      "GSM1228222    float64\n",
      "GSM1228223    float64\n",
      "GSM1228224    float64\n",
      "GSM1228225    float64\n",
      "GSM1228226    float64\n",
      "GSM1228227    float64\n",
      "GSM1228228    float64\n",
      "GSM1228229    float64\n",
      "GSM1228230    float64\n",
      "GSM1228231    float64\n",
      "GSM1228232    float64\n",
      "GSM1228233    float64\n",
      "GSM1228234    float64\n",
      "GSM1228235    float64\n",
      "GSM1228236    float64\n",
      "GSM1228237    float64\n",
      "dtype: object\n"
     ]
    }
   ],
   "source": [
    "# Data characteristics \n",
    "print (geo_df.dtypes)"
   ]
  },
  {
   "cell_type": "code",
   "execution_count": 7,
   "id": "5dbaedf1-6062-468a-ae2e-25dc60329fe1",
   "metadata": {
    "scrolled": true
   },
   "outputs": [
    {
     "name": "stdout",
     "output_type": "stream",
     "text": [
      "TCGA-5M-AAT6-01A    float64\n",
      "TCGA-AA-3552-01A    float64\n",
      "TCGA-AA-3867-01A    float64\n",
      "TCGA-AD-6895-01A    float64\n",
      "TCGA-AA-3560-01A    float64\n",
      "                     ...   \n",
      "TCGA-AZ-6601-01A    float64\n",
      "TCGA-AA-3672-01A    float64\n",
      "TCGA-AA-3524-01A    float64\n",
      "TCGA-AA-3715-01A    float64\n",
      "TCGA-AA-3531-01A    float64\n",
      "Length: 514, dtype: object\n"
     ]
    }
   ],
   "source": [
    "print (tcga_df.dtypes)"
   ]
  },
  {
   "cell_type": "code",
   "execution_count": 8,
   "id": "82da5489-fa1d-4bbc-bacd-9433fdeb63aa",
   "metadata": {
    "scrolled": true
   },
   "outputs": [
    {
     "name": "stdout",
     "output_type": "stream",
     "text": [
      "<class 'pandas.core.frame.DataFrame'>\n",
      "Index: 39376 entries, 100287102 to 4571\n",
      "Data columns (total 54 columns):\n",
      " #   Column      Non-Null Count  Dtype  \n",
      "---  ------      --------------  -----  \n",
      " 0   GSM1228184  39376 non-null  float64\n",
      " 1   GSM1228185  39376 non-null  float64\n",
      " 2   GSM1228186  39376 non-null  float64\n",
      " 3   GSM1228187  39376 non-null  float64\n",
      " 4   GSM1228188  39376 non-null  float64\n",
      " 5   GSM1228189  39376 non-null  float64\n",
      " 6   GSM1228190  39376 non-null  float64\n",
      " 7   GSM1228191  39376 non-null  float64\n",
      " 8   GSM1228192  39376 non-null  float64\n",
      " 9   GSM1228193  39376 non-null  float64\n",
      " 10  GSM1228194  39376 non-null  float64\n",
      " 11  GSM1228195  39376 non-null  float64\n",
      " 12  GSM1228196  39376 non-null  float64\n",
      " 13  GSM1228197  39376 non-null  float64\n",
      " 14  GSM1228198  39376 non-null  float64\n",
      " 15  GSM1228199  39376 non-null  float64\n",
      " 16  GSM1228200  39376 non-null  float64\n",
      " 17  GSM1228201  39376 non-null  float64\n",
      " 18  GSM1228202  39376 non-null  float64\n",
      " 19  GSM1228203  39376 non-null  float64\n",
      " 20  GSM1228204  39376 non-null  float64\n",
      " 21  GSM1228205  39376 non-null  float64\n",
      " 22  GSM1228206  39376 non-null  float64\n",
      " 23  GSM1228207  39376 non-null  float64\n",
      " 24  GSM1228208  39376 non-null  float64\n",
      " 25  GSM1228209  39376 non-null  float64\n",
      " 26  GSM1228210  39376 non-null  float64\n",
      " 27  GSM1228211  39376 non-null  float64\n",
      " 28  GSM1228212  39376 non-null  float64\n",
      " 29  GSM1228213  39376 non-null  float64\n",
      " 30  GSM1228214  39376 non-null  float64\n",
      " 31  GSM1228215  39376 non-null  float64\n",
      " 32  GSM1228216  39376 non-null  float64\n",
      " 33  GSM1228217  39376 non-null  float64\n",
      " 34  GSM1228218  39376 non-null  float64\n",
      " 35  GSM1228219  39376 non-null  float64\n",
      " 36  GSM1228220  39376 non-null  float64\n",
      " 37  GSM1228221  39376 non-null  float64\n",
      " 38  GSM1228222  39376 non-null  float64\n",
      " 39  GSM1228223  39376 non-null  float64\n",
      " 40  GSM1228224  39376 non-null  float64\n",
      " 41  GSM1228225  39376 non-null  float64\n",
      " 42  GSM1228226  39376 non-null  float64\n",
      " 43  GSM1228227  39376 non-null  float64\n",
      " 44  GSM1228228  39376 non-null  float64\n",
      " 45  GSM1228229  39376 non-null  float64\n",
      " 46  GSM1228230  39376 non-null  float64\n",
      " 47  GSM1228231  39376 non-null  float64\n",
      " 48  GSM1228232  39376 non-null  float64\n",
      " 49  GSM1228233  39376 non-null  float64\n",
      " 50  GSM1228234  39376 non-null  float64\n",
      " 51  GSM1228235  39376 non-null  float64\n",
      " 52  GSM1228236  39376 non-null  float64\n",
      " 53  GSM1228237  39376 non-null  float64\n",
      "dtypes: float64(54)\n",
      "memory usage: 16.5 MB\n",
      "None\n"
     ]
    }
   ],
   "source": [
    "print (geo_df.info())"
   ]
  },
  {
   "cell_type": "code",
   "execution_count": 9,
   "id": "7b5e76d5-6dea-4959-bb2b-25a301adb49b",
   "metadata": {},
   "outputs": [
    {
     "name": "stdout",
     "output_type": "stream",
     "text": [
      "<class 'pandas.core.frame.DataFrame'>\n",
      "Index: 60660 entries, ENSG00000000003.15 to ENSG00000288675.1\n",
      "Columns: 514 entries, TCGA-5M-AAT6-01A to TCGA-AA-3531-01A\n",
      "dtypes: float64(514)\n",
      "memory usage: 238.3+ MB\n",
      "None\n"
     ]
    }
   ],
   "source": [
    "print (tcga_df.info())"
   ]
  },
  {
   "cell_type": "markdown",
   "id": "3106cb19-1a9b-42b3-bac2-2dd166218d1b",
   "metadata": {},
   "source": [
    "## Data standarization "
   ]
  },
  {
   "cell_type": "code",
   "execution_count": 11,
   "id": "5d536a25-0233-44a4-afbf-92a730474e54",
   "metadata": {},
   "outputs": [],
   "source": [
    "# Convering GEO data to standard log2(x+1)\n",
    "geo_df_log2 = np.log2(geo_df+1)"
   ]
  },
  {
   "cell_type": "code",
   "execution_count": 12,
   "id": "2906d04b-a6b0-4299-b4bb-4d3abaec6866",
   "metadata": {},
   "outputs": [
    {
     "name": "stdout",
     "output_type": "stream",
     "text": [
      "Missing values in GEO: 0\n",
      "Missing values in TCGA: 0\n"
     ]
    }
   ],
   "source": [
    "# Count total missing values\n",
    "print(\"Missing values in GEO:\", geo_df_log2.isnull().sum().sum())\n",
    "print(\"Missing values in TCGA:\", tcga_df.isnull().sum().sum())"
   ]
  },
  {
   "cell_type": "markdown",
   "id": "15655965-a13d-4d03-92d6-a5c0ff3a7d3e",
   "metadata": {},
   "source": [
    "### Convert TCGA ensembl code to gene ID"
   ]
  },
  {
   "cell_type": "code",
   "execution_count": 14,
   "id": "fb295a6e-dbf3-4944-97f0-ebdef842cfed",
   "metadata": {
    "scrolled": true
   },
   "outputs": [
    {
     "name": "stdout",
     "output_type": "stream",
     "text": [
      "                    TCGA-5M-AAT6-01A  TCGA-AA-3552-01A  TCGA-AA-3867-01A  \\\n",
      "Ensembl_ID                                                                 \n",
      "ENSG00000000003.15          4.783671          7.069015          7.627462   \n",
      "ENSG00000000005.6           0.343692          0.753776          0.300417   \n",
      "\n",
      "                    TCGA-AD-6895-01A  TCGA-AA-3560-01A  TCGA-CM-6676-01A  \\\n",
      "Ensembl_ID                                                                 \n",
      "ENSG00000000003.15          4.079737          7.155694          7.634865   \n",
      "ENSG00000000005.6           0.000000          2.463518          4.400080   \n",
      "\n",
      "                    TCGA-AA-A029-01A  TCGA-AA-A01C-01A  TCGA-CK-5912-01A  \\\n",
      "Ensembl_ID                                                                 \n",
      "ENSG00000000003.15          5.556540          7.008617          8.092381   \n",
      "ENSG00000000005.6           1.449218          1.368768          1.881704   \n",
      "\n",
      "                    TCGA-AA-A03F-01A  ...  TCGA-AD-6890-01A  TCGA-QL-A97D-01A  \\\n",
      "Ensembl_ID                            ...                                       \n",
      "ENSG00000000003.15          3.945355  ...          6.785581          6.326223   \n",
      "ENSG00000000005.6           1.868252  ...          2.287118          3.207424   \n",
      "\n",
      "                    TCGA-AZ-6608-01A  TCGA-AA-A024-01A  TCGA-G4-6294-01A  \\\n",
      "Ensembl_ID                                                                 \n",
      "ENSG00000000003.15          7.195920          6.337126          7.723703   \n",
      "ENSG00000000005.6           1.622134          2.862193          0.729270   \n",
      "\n",
      "                    TCGA-AZ-6601-01A  TCGA-AA-3672-01A  TCGA-AA-3524-01A  \\\n",
      "Ensembl_ID                                                                 \n",
      "ENSG00000000003.15          6.180285          4.844074          7.323312   \n",
      "ENSG00000000005.6           0.439570          0.889006          3.599580   \n",
      "\n",
      "                    TCGA-AA-3715-01A  TCGA-AA-3531-01A  \n",
      "Ensembl_ID                                              \n",
      "ENSG00000000003.15          3.984945          7.301053  \n",
      "ENSG00000000005.6           0.644133          1.224843  \n",
      "\n",
      "[2 rows x 514 columns]\n"
     ]
    }
   ],
   "source": [
    "print(tcga_df.head(2))"
   ]
  },
  {
   "cell_type": "code",
   "execution_count": 15,
   "id": "ae257a2e-9056-4f52-859b-a089a094c2de",
   "metadata": {
    "scrolled": true
   },
   "outputs": [
    {
     "name": "stdout",
     "output_type": "stream",
     "text": [
      "                 TCGA-5M-AAT6-01A  TCGA-AA-3552-01A  TCGA-AA-3867-01A  \\\n",
      "Ensembl_ID                                                              \n",
      "ENSG00000000003          4.783671          7.069015          7.627462   \n",
      "ENSG00000000005          0.343692          0.753776          0.300417   \n",
      "\n",
      "                 TCGA-AD-6895-01A  TCGA-AA-3560-01A  TCGA-CM-6676-01A  \\\n",
      "Ensembl_ID                                                              \n",
      "ENSG00000000003          4.079737          7.155694          7.634865   \n",
      "ENSG00000000005          0.000000          2.463518          4.400080   \n",
      "\n",
      "                 TCGA-AA-A029-01A  TCGA-AA-A01C-01A  TCGA-CK-5912-01A  \\\n",
      "Ensembl_ID                                                              \n",
      "ENSG00000000003          5.556540          7.008617          8.092381   \n",
      "ENSG00000000005          1.449218          1.368768          1.881704   \n",
      "\n",
      "                 TCGA-AA-A03F-01A  ...  TCGA-AD-6890-01A  TCGA-QL-A97D-01A  \\\n",
      "Ensembl_ID                         ...                                       \n",
      "ENSG00000000003          3.945355  ...          6.785581          6.326223   \n",
      "ENSG00000000005          1.868252  ...          2.287118          3.207424   \n",
      "\n",
      "                 TCGA-AZ-6608-01A  TCGA-AA-A024-01A  TCGA-G4-6294-01A  \\\n",
      "Ensembl_ID                                                              \n",
      "ENSG00000000003          7.195920          6.337126          7.723703   \n",
      "ENSG00000000005          1.622134          2.862193          0.729270   \n",
      "\n",
      "                 TCGA-AZ-6601-01A  TCGA-AA-3672-01A  TCGA-AA-3524-01A  \\\n",
      "Ensembl_ID                                                              \n",
      "ENSG00000000003          6.180285          4.844074          7.323312   \n",
      "ENSG00000000005          0.439570          0.889006          3.599580   \n",
      "\n",
      "                 TCGA-AA-3715-01A  TCGA-AA-3531-01A  \n",
      "Ensembl_ID                                           \n",
      "ENSG00000000003          3.984945          7.301053  \n",
      "ENSG00000000005          0.644133          1.224843  \n",
      "\n",
      "[2 rows x 514 columns]\n"
     ]
    }
   ],
   "source": [
    "# Remove vesrion numbers .00\n",
    "tcga_df.index = tcga_df.index.str.split('.').str[0]\n",
    "print(tcga_df.head(2))"
   ]
  },
  {
   "cell_type": "code",
   "execution_count": 16,
   "id": "1a1f87b6-84c7-4022-9bd0-a0f1d832ec4a",
   "metadata": {
    "scrolled": true
   },
   "outputs": [
    {
     "name": "stdout",
     "output_type": "stream",
     "text": [
      "           GSM1228184  GSM1228185  GSM1228186  GSM1228187  GSM1228188  \\\n",
      "GeneID                                                                  \n",
      "100287102     0.04069     0.04742        0.00      0.1232     0.08211   \n",
      "653635       11.97000    23.12000       14.69     32.9000    25.65000   \n",
      "102466751     6.91900     9.21700       11.11     32.9200    29.92000   \n",
      "107985730     0.12490     0.00000        0.00      0.1261     0.00000   \n",
      "100302278     0.00000     0.00000        0.00      0.0000     0.00000   \n",
      "\n",
      "           GSM1228189  GSM1228190  GSM1228191  GSM1228192  GSM1228193  ...  \\\n",
      "GeneID                                                                 ...   \n",
      "100287102      0.0397        0.00     0.08563      0.0529     0.06778  ...   \n",
      "653635        22.8000       21.82    17.07000     32.2100    26.11000  ...   \n",
      "102466751     33.7600       19.17     9.36200     19.2800    19.76000  ...   \n",
      "107985730      0.0000        0.00     0.13150      0.1624     0.10410  ...   \n",
      "100302278      0.0000        0.00     0.00000      0.0000     0.00000  ...   \n",
      "\n",
      "           GSM1228228  GSM1228229  GSM1228230  GSM1228231  GSM1228232  \\\n",
      "GeneID                                                                  \n",
      "100287102        0.00      0.0000      0.1172     0.04795     0.02365   \n",
      "653635          28.87     32.2000     35.8400    26.69000    10.45000   \n",
      "102466751       14.87     10.3900     41.2800    12.81000    14.36000   \n",
      "107985730        0.00      0.1459      0.0000     0.00000     0.07261   \n",
      "100302278        0.00      0.0000      0.0000     0.00000     0.00000   \n",
      "\n",
      "           GSM1228233  GSM1228234  GSM1228235  GSM1228236  GSM1228237  \n",
      "GeneID                                                                 \n",
      "100287102     0.04895        0.00      0.1182     0.09933      0.0000  \n",
      "653635       14.54000       16.57     19.3500    19.45000     16.5200  \n",
      "102466751     5.94600       12.64     25.8400    14.48000      9.3060  \n",
      "107985730     0.00000        0.00      0.0000     0.00000      0.1069  \n",
      "100302278     0.00000        0.00      0.0000     0.00000      0.0000  \n",
      "\n",
      "[5 rows x 54 columns]\n"
     ]
    }
   ],
   "source": [
    "# Mapping ensembl ID to gene ID such as BioMart\n",
    "print (geo_df.head())"
   ]
  },
  {
   "cell_type": "code",
   "execution_count": 17,
   "id": "7b6ef246-9b52-405a-82ac-b05c06e6a3b9",
   "metadata": {},
   "outputs": [
    {
     "name": "stdout",
     "output_type": "stream",
     "text": [
      "        Ensembl_ID  GeneID Gene_Name\n",
      "0  ENSG00000210049     NaN     MT-TF\n",
      "1  ENSG00000211459     NaN   MT-RNR1\n",
      "2  ENSG00000210077     NaN     MT-TV\n",
      "3  ENSG00000210082     NaN   MT-RNR2\n",
      "4  ENSG00000209082     NaN    MT-TL1\n"
     ]
    }
   ],
   "source": [
    "# importing dataset from BioMart with gene ID, NCBI and gene name.\n",
    "mapping_df = pd.read_csv(\"mart_export.txt\", sep=\",\")\n",
    "# Renaming for clarity\n",
    "mapping_df.columns = ['Ensembl_ID', 'GeneID', 'Gene_Name']\n",
    "print (mapping_df.head())"
   ]
  },
  {
   "cell_type": "code",
   "execution_count": 18,
   "id": "d67bf1b7-2ad6-4e5f-8ece-6e5998fcf80a",
   "metadata": {},
   "outputs": [
    {
     "name": "stdout",
     "output_type": "stream",
     "text": [
      "         Ensembl_ID       GeneID Gene_Name\n",
      "5   ENSG00000198888       4535.0    MT-ND1\n",
      "9   ENSG00000198763       4536.0    MT-ND2\n",
      "15  ENSG00000198804       4512.0    MT-CO1\n",
      "16  ENSG00000210151  113219467.0    MT-TS1\n",
      "18  ENSG00000198712       4513.0    MT-CO2\n"
     ]
    }
   ],
   "source": [
    "# dropping entries without GeneID (Entrez number)\n",
    "mapping_df = mapping_df.dropna(subset=[\"GeneID\"])\n",
    "print (mapping_df.head())"
   ]
  },
  {
   "cell_type": "code",
   "execution_count": 19,
   "id": "ab19d0c3-aefc-4a0a-afe7-78c121959d4c",
   "metadata": {
    "scrolled": true
   },
   "outputs": [
    {
     "name": "stdout",
     "output_type": "stream",
     "text": [
      "              Ensembl_ID  TCGA-5M-AAT6-01A  TCGA-AA-3552-01A  \\\n",
      "GeneID                                                         \n",
      "7105.0   ENSG00000000003          4.783671          7.069015   \n",
      "64102.0  ENSG00000000005          0.343692          0.753776   \n",
      "8813.0   ENSG00000000419          6.679223          6.679985   \n",
      "57147.0  ENSG00000000457          2.640366          2.605779   \n",
      "55732.0  ENSG00000000460          2.678906          1.893168   \n",
      "\n",
      "         TCGA-AA-3867-01A  TCGA-AD-6895-01A  TCGA-AA-3560-01A  \\\n",
      "GeneID                                                          \n",
      "7105.0           7.627462          4.079737          7.155694   \n",
      "64102.0          0.300417          0.000000          2.463518   \n",
      "8813.0           7.430763          6.839957          6.019186   \n",
      "57147.0          2.751292          3.088125          2.570706   \n",
      "55732.0          2.264747          2.415056          2.718548   \n",
      "\n",
      "         TCGA-CM-6676-01A  TCGA-AA-A029-01A  TCGA-AA-A01C-01A  \\\n",
      "GeneID                                                          \n",
      "7105.0           7.634865          5.556540          7.008617   \n",
      "64102.0          4.400080          1.449218          1.368768   \n",
      "8813.0           8.255367          6.420393          7.179176   \n",
      "57147.0          3.005328          2.427365          2.063986   \n",
      "55732.0          2.587629          2.130964          2.192226   \n",
      "\n",
      "         TCGA-CK-5912-01A  ...  TCGA-AD-6890-01A  TCGA-QL-A97D-01A  \\\n",
      "GeneID                     ...                                       \n",
      "7105.0           8.092381  ...          6.785581          6.326223   \n",
      "64102.0          1.881704  ...          2.287118          3.207424   \n",
      "8813.0           8.365306  ...          7.007031          7.633015   \n",
      "57147.0          3.542555  ...          2.338282          2.906775   \n",
      "55732.0          3.579397  ...          2.248596          2.911826   \n",
      "\n",
      "         TCGA-AZ-6608-01A  TCGA-AA-A024-01A  TCGA-G4-6294-01A  \\\n",
      "GeneID                                                          \n",
      "7105.0           7.195920          6.337126          7.723703   \n",
      "64102.0          1.622134          2.862193          0.729270   \n",
      "8813.0           7.678110          5.321989          7.670385   \n",
      "57147.0          2.573811          2.258428          2.871745   \n",
      "55732.0          2.524289          1.325502          2.658257   \n",
      "\n",
      "         TCGA-AZ-6601-01A  TCGA-AA-3672-01A  TCGA-AA-3524-01A  \\\n",
      "GeneID                                                          \n",
      "7105.0           6.180285          4.844074          7.323312   \n",
      "64102.0          0.439570          0.889006          3.599580   \n",
      "8813.0           6.678576          4.898368          8.134329   \n",
      "57147.0          2.845490          2.309846          3.088176   \n",
      "55732.0          3.065710          2.382003          3.300578   \n",
      "\n",
      "         TCGA-AA-3715-01A  TCGA-AA-3531-01A  \n",
      "GeneID                                       \n",
      "7105.0           3.984945          7.301053  \n",
      "64102.0          0.644133          1.224843  \n",
      "8813.0           4.894037          6.816289  \n",
      "57147.0          2.601435          2.467566  \n",
      "55732.0          3.107387          3.257524  \n",
      "\n",
      "[5 rows x 515 columns]\n"
     ]
    }
   ],
   "source": [
    "# mergin with mapping to TCGA data \n",
    "tcga_mapped = pd.merge(tcga_df, mapping_df[['Ensembl_ID', 'GeneID']], on='Ensembl_ID')\n",
    "# Set GeneID as index\n",
    "tcga_mapped = tcga_mapped.set_index('GeneID')\n",
    "print(tcga_mapped.head())"
   ]
  },
  {
   "cell_type": "code",
   "execution_count": 20,
   "id": "20b164f2-bfaf-4fb1-bac5-7441da126d49",
   "metadata": {},
   "outputs": [
    {
     "name": "stdout",
     "output_type": "stream",
     "text": [
      "(29541, 515)\n"
     ]
    }
   ],
   "source": [
    "print(tcga_mapped.shape)"
   ]
  },
  {
   "cell_type": "code",
   "execution_count": 21,
   "id": "f5ca3004-ff8c-4088-b0ed-93e074ea5baa",
   "metadata": {},
   "outputs": [
    {
     "data": {
      "text/plain": [
       "Index([102466751.0, 100302278.0,     79501.0, 102465909.0,    729759.0,\n",
       "       113219467.0,     81399.0,    400728.0,    643837.0,    284593.0,\n",
       "       ...\n",
       "            4513.0,      4509.0,      4508.0,      4514.0,      4537.0,\n",
       "            4539.0,      4538.0,      4540.0,      4541.0,      4519.0],\n",
       "      dtype='float64', name='GeneID', length=25515)"
      ]
     },
     "execution_count": 21,
     "metadata": {},
     "output_type": "execute_result"
    }
   ],
   "source": [
    "# Checking for common genes \n",
    "common_genes = geo_df.index.intersection(tcga_mapped.index)\n",
    "common_genes"
   ]
  },
  {
   "cell_type": "code",
   "execution_count": 22,
   "id": "94edd72a-f3fe-4b86-b2d0-47eebd91b240",
   "metadata": {},
   "outputs": [],
   "source": [
    "# Convering dataset to int\n",
    "common_genes = common_genes.astype(int)\n",
    "geo_df.index = geo_df.index.astype(int)\n",
    "tcga_mapped.index = tcga_mapped.index.astype(int)"
   ]
  },
  {
   "cell_type": "code",
   "execution_count": 23,
   "id": "4a66db89-286a-4071-b714-5d8e6e129382",
   "metadata": {},
   "outputs": [],
   "source": [
    "# Subsetting by common genes \n",
    "geo_aligned = geo_df.loc[common_genes]\n",
    "tcga_aligned = tcga_mapped.loc[common_genes]"
   ]
  },
  {
   "cell_type": "code",
   "execution_count": 24,
   "id": "4ed426ab-b28a-49bf-8aa7-4ea77cc80e2a",
   "metadata": {},
   "outputs": [
    {
     "name": "stdout",
     "output_type": "stream",
     "text": [
      "(25515, 54)\n",
      "(25722, 515)\n"
     ]
    }
   ],
   "source": [
    "print(geo_aligned.shape)\n",
    "print(tcga_aligned.shape)"
   ]
  },
  {
   "cell_type": "markdown",
   "id": "7c00a3d9-69f2-488c-ac43-11e83970e27a",
   "metadata": {},
   "source": [
    "### Obtaining GEO metadata and mapping GEO data"
   ]
  },
  {
   "cell_type": "code",
   "execution_count": 26,
   "id": "f248c712-9188-49bc-b1dd-9921f2034eca",
   "metadata": {},
   "outputs": [
    {
     "name": "stdout",
     "output_type": "stream",
     "text": [
      "     SampleID                        Description\n",
      "0  GSM1228184  primary colorectal cancer AMC_2-1\n",
      "1  GSM1228185  primary colorectal cancer AMC_3-1\n",
      "2  GSM1228186  primary colorectal cancer AMC_5-1\n",
      "3  GSM1228187  primary colorectal cancer AMC_6-1\n",
      "4  GSM1228188  primary colorectal cancer AMC_7-1\n"
     ]
    }
   ],
   "source": [
    "with open(\"GSE50760_series_matrix.txt\") as file:\n",
    "    lines = file.readlines()\n",
    "\n",
    "titles = [line for line in lines if line.startswith('!Sample_title')][0].split('\\t')[1:]\n",
    "accessions = [line for line in lines if line.startswith('!Sample_geo_accession')][0].split('\\t')[1:]\n",
    "\n",
    "# Cleaning up quotations \n",
    "titles = [title.strip().replace('\"', '') for title in titles]\n",
    "accessions = [acc.strip().replace('\"', '') for acc in accessions]\n",
    "\n",
    "# Make a DataFrame GSM ID and its description\n",
    "import pandas as pd\n",
    "\n",
    "sample_info = pd.DataFrame({\n",
    "    'SampleID': accessions,\n",
    "    'Description': titles\n",
    "})\n",
    "\n",
    "print(sample_info.head())"
   ]
  },
  {
   "cell_type": "code",
   "execution_count": 27,
   "id": "84351c7d-f935-4f6f-b3a5-015b40a17c34",
   "metadata": {},
   "outputs": [
    {
     "name": "stdout",
     "output_type": "stream",
     "text": [
      "     SampleID                        Description              NewLabel\n",
      "0  GSM1228184  primary colorectal cancer AMC_2-1  GEO_Tumor_GSM1228184\n",
      "1  GSM1228185  primary colorectal cancer AMC_3-1  GEO_Tumor_GSM1228185\n",
      "2  GSM1228186  primary colorectal cancer AMC_5-1  GEO_Tumor_GSM1228186\n",
      "3  GSM1228187  primary colorectal cancer AMC_6-1  GEO_Tumor_GSM1228187\n",
      "4  GSM1228188  primary colorectal cancer AMC_7-1  GEO_Tumor_GSM1228188\n"
     ]
    }
   ],
   "source": [
    "# Funtion for new labeling \n",
    "def label_geo(row):\n",
    "    if 'normal' in row['Description'].lower():\n",
    "        return f\"GEO_Healthy_{row['SampleID']}\"\n",
    "    else:\n",
    "        return f\"GEO_Tumor_{row['SampleID']}\"\n",
    "\n",
    "sample_info['NewLabel'] = sample_info.apply(label_geo, axis=1)\n",
    "\n",
    "print(sample_info.head())"
   ]
  },
  {
   "cell_type": "code",
   "execution_count": 28,
   "id": "ada5f778-9526-43a0-b6db-3bad4b9998d1",
   "metadata": {},
   "outputs": [],
   "source": [
    "# Dictionary with new label and id\n",
    "mapping_dict = dict(zip(sample_info['SampleID'], sample_info['NewLabel']))"
   ]
  },
  {
   "cell_type": "code",
   "execution_count": 29,
   "id": "626eac2d-8470-46ab-afe3-271e6b47d4af",
   "metadata": {},
   "outputs": [],
   "source": [
    "# Renaming GEO data\n",
    "geo_labeled = geo_df.copy()\n",
    "geo_labeled.rename(columns=mapping_dict, inplace= True)"
   ]
  },
  {
   "cell_type": "code",
   "execution_count": 30,
   "id": "bf179448-6319-433a-81a1-9df66c45677e",
   "metadata": {
    "scrolled": true
   },
   "outputs": [
    {
     "name": "stdout",
     "output_type": "stream",
     "text": [
      "           GEO_Tumor_GSM1228184  GEO_Tumor_GSM1228185  GEO_Tumor_GSM1228186  \\\n",
      "GeneID                                                                        \n",
      "100287102               0.04069               0.04742                  0.00   \n",
      "653635                 11.97000              23.12000                 14.69   \n",
      "102466751               6.91900               9.21700                 11.11   \n",
      "107985730               0.12490               0.00000                  0.00   \n",
      "100302278               0.00000               0.00000                  0.00   \n",
      "\n",
      "           GEO_Tumor_GSM1228187  GEO_Tumor_GSM1228188  GEO_Tumor_GSM1228189  \\\n",
      "GeneID                                                                        \n",
      "100287102                0.1232               0.08211                0.0397   \n",
      "653635                  32.9000              25.65000               22.8000   \n",
      "102466751               32.9200              29.92000               33.7600   \n",
      "107985730                0.1261               0.00000                0.0000   \n",
      "100302278                0.0000               0.00000                0.0000   \n",
      "\n",
      "           GEO_Tumor_GSM1228190  GEO_Tumor_GSM1228191  GEO_Tumor_GSM1228192  \\\n",
      "GeneID                                                                        \n",
      "100287102                  0.00               0.08563                0.0529   \n",
      "653635                    21.82              17.07000               32.2100   \n",
      "102466751                 19.17               9.36200               19.2800   \n",
      "107985730                  0.00               0.13150                0.1624   \n",
      "100302278                  0.00               0.00000                0.0000   \n",
      "\n",
      "           GEO_Tumor_GSM1228193  ...  GEO_Tumor_GSM1228228  \\\n",
      "GeneID                           ...                         \n",
      "100287102               0.06778  ...                  0.00   \n",
      "653635                 26.11000  ...                 28.87   \n",
      "102466751              19.76000  ...                 14.87   \n",
      "107985730               0.10410  ...                  0.00   \n",
      "100302278               0.00000  ...                  0.00   \n",
      "\n",
      "           GEO_Tumor_GSM1228229  GEO_Tumor_GSM1228230  GEO_Tumor_GSM1228231  \\\n",
      "GeneID                                                                        \n",
      "100287102                0.0000                0.1172               0.04795   \n",
      "653635                  32.2000               35.8400              26.69000   \n",
      "102466751               10.3900               41.2800              12.81000   \n",
      "107985730                0.1459                0.0000               0.00000   \n",
      "100302278                0.0000                0.0000               0.00000   \n",
      "\n",
      "           GEO_Tumor_GSM1228232  GEO_Tumor_GSM1228233  GEO_Tumor_GSM1228234  \\\n",
      "GeneID                                                                        \n",
      "100287102               0.02365               0.04895                  0.00   \n",
      "653635                 10.45000              14.54000                 16.57   \n",
      "102466751              14.36000               5.94600                 12.64   \n",
      "107985730               0.07261               0.00000                  0.00   \n",
      "100302278               0.00000               0.00000                  0.00   \n",
      "\n",
      "           GEO_Tumor_GSM1228235  GEO_Tumor_GSM1228236  GEO_Tumor_GSM1228237  \n",
      "GeneID                                                                       \n",
      "100287102                0.1182               0.09933                0.0000  \n",
      "653635                  19.3500              19.45000               16.5200  \n",
      "102466751               25.8400              14.48000                9.3060  \n",
      "107985730                0.0000               0.00000                0.1069  \n",
      "100302278                0.0000               0.00000                0.0000  \n",
      "\n",
      "[5 rows x 54 columns]\n"
     ]
    }
   ],
   "source": [
    "print(geo_labeled.head())"
   ]
  },
  {
   "cell_type": "markdown",
   "id": "e57c7bb2-0988-4b4b-8c5c-82b19e40c168",
   "metadata": {},
   "source": [
    "### Renaming TCGA data"
   ]
  },
  {
   "cell_type": "code",
   "execution_count": 32,
   "id": "1ac66447-6899-452c-96b3-3be9afa88639",
   "metadata": {},
   "outputs": [],
   "source": [
    "# Relabeling function\n",
    "def label_tcga(col):\n",
    "    try:\n",
    "        parts = col.split('-')\n",
    "        if len(parts) < 4:\n",
    "            return f\"TCGA_Unknown_{col}\"\n",
    "        sample_code = parts[3][:2]\n",
    "        condition = \"Tumor\" if sample_code == \"01\" else \"Healthy\" if sample_code == \"11\" else \"Other\"\n",
    "        patient_id = parts[2]  \n",
    "        return f\"TCGA_{condition}_{patient_id}\"\n",
    "    except:\n",
    "        return f\"TCGA_Unknown_{col}\""
   ]
  },
  {
   "cell_type": "code",
   "execution_count": 33,
   "id": "ec4b98a5-8e93-46fc-8026-8f86fa32aa55",
   "metadata": {},
   "outputs": [],
   "source": [
    "tcga_labeled = tcga_mapped.copy()\n",
    "tcga_labeled.columns = [label_tcga(col) for col in tcga_labeled.columns]"
   ]
  },
  {
   "cell_type": "code",
   "execution_count": 34,
   "id": "6389bc39-ae1a-412f-b450-d5919d2b7872",
   "metadata": {
    "scrolled": true
   },
   "outputs": [
    {
     "name": "stdout",
     "output_type": "stream",
     "text": [
      "       TCGA_Unknown_Ensembl_ID  TCGA_Tumor_AAT6  TCGA_Tumor_3552  \\\n",
      "GeneID                                                             \n",
      "7105           ENSG00000000003         4.783671         7.069015   \n",
      "64102          ENSG00000000005         0.343692         0.753776   \n",
      "8813           ENSG00000000419         6.679223         6.679985   \n",
      "57147          ENSG00000000457         2.640366         2.605779   \n",
      "55732          ENSG00000000460         2.678906         1.893168   \n",
      "\n",
      "        TCGA_Tumor_3867  TCGA_Tumor_6895  TCGA_Tumor_3560  TCGA_Tumor_6676  \\\n",
      "GeneID                                                                       \n",
      "7105           7.627462         4.079737         7.155694         7.634865   \n",
      "64102          0.300417         0.000000         2.463518         4.400080   \n",
      "8813           7.430763         6.839957         6.019186         8.255367   \n",
      "57147          2.751292         3.088125         2.570706         3.005328   \n",
      "55732          2.264747         2.415056         2.718548         2.587629   \n",
      "\n",
      "        TCGA_Tumor_A029  TCGA_Tumor_A01C  TCGA_Tumor_5912  ...  \\\n",
      "GeneID                                                     ...   \n",
      "7105           5.556540         7.008617         8.092381  ...   \n",
      "64102          1.449218         1.368768         1.881704  ...   \n",
      "8813           6.420393         7.179176         8.365306  ...   \n",
      "57147          2.427365         2.063986         3.542555  ...   \n",
      "55732          2.130964         2.192226         3.579397  ...   \n",
      "\n",
      "        TCGA_Tumor_6890  TCGA_Tumor_A97D  TCGA_Tumor_6608  TCGA_Tumor_A024  \\\n",
      "GeneID                                                                       \n",
      "7105           6.785581         6.326223         7.195920         6.337126   \n",
      "64102          2.287118         3.207424         1.622134         2.862193   \n",
      "8813           7.007031         7.633015         7.678110         5.321989   \n",
      "57147          2.338282         2.906775         2.573811         2.258428   \n",
      "55732          2.248596         2.911826         2.524289         1.325502   \n",
      "\n",
      "        TCGA_Tumor_6294  TCGA_Tumor_6601  TCGA_Tumor_3672  TCGA_Tumor_3524  \\\n",
      "GeneID                                                                       \n",
      "7105           7.723703         6.180285         4.844074         7.323312   \n",
      "64102          0.729270         0.439570         0.889006         3.599580   \n",
      "8813           7.670385         6.678576         4.898368         8.134329   \n",
      "57147          2.871745         2.845490         2.309846         3.088176   \n",
      "55732          2.658257         3.065710         2.382003         3.300578   \n",
      "\n",
      "        TCGA_Tumor_3715  TCGA_Tumor_3531  \n",
      "GeneID                                    \n",
      "7105           3.984945         7.301053  \n",
      "64102          0.644133         1.224843  \n",
      "8813           4.894037         6.816289  \n",
      "57147          2.601435         2.467566  \n",
      "55732          3.107387         3.257524  \n",
      "\n",
      "[5 rows x 515 columns]\n"
     ]
    }
   ],
   "source": [
    "print (tcga_labeled.head())"
   ]
  },
  {
   "cell_type": "markdown",
   "id": "edb99fd5-df6c-4f67-a862-77f5885015da",
   "metadata": {},
   "source": [
    "## Merging TCGA and GEO"
   ]
  },
  {
   "cell_type": "code",
   "execution_count": 36,
   "id": "b25b8ba0-c46a-4907-a7f7-f2185e413bda",
   "metadata": {},
   "outputs": [
    {
     "name": "stdout",
     "output_type": "stream",
     "text": [
      "0\n",
      "2493\n"
     ]
    }
   ],
   "source": [
    "# Dropping duplicates before merging\n",
    "print(geo_labeled.index.duplicated().sum())     \n",
    "print(tcga_labeled.index.duplicated().sum())    "
   ]
  },
  {
   "cell_type": "code",
   "execution_count": 37,
   "id": "97a8bc78-7300-4256-88f9-505b280f2831",
   "metadata": {},
   "outputs": [
    {
     "name": "stdout",
     "output_type": "stream",
     "text": [
      "0\n"
     ]
    }
   ],
   "source": [
    "# Dropping dupplicates for tcga keeping only the first apperance \n",
    "tcga_labeled = tcga_labeled[~tcga_labeled.index.duplicated(keep='first')]\n",
    "print(tcga_labeled.index.duplicated().sum())    "
   ]
  },
  {
   "cell_type": "code",
   "execution_count": 38,
   "id": "137e01f4-e5d3-4130-a149-b97410560782",
   "metadata": {},
   "outputs": [],
   "source": [
    "# Merging datasets \n",
    "combined_df = pd.concat([geo_labeled, tcga_labeled], axis=1)"
   ]
  },
  {
   "cell_type": "code",
   "execution_count": 39,
   "id": "849a2ead-1377-4997-8bdc-d4e5daa07fd3",
   "metadata": {},
   "outputs": [
    {
     "name": "stdout",
     "output_type": "stream",
     "text": [
      "(40909, 569)\n"
     ]
    }
   ],
   "source": [
    "print (combined_df.shape)"
   ]
  },
  {
   "cell_type": "code",
   "execution_count": 40,
   "id": "f3f1dab1-ce6b-43d8-9db2-99ffcb75ca82",
   "metadata": {},
   "outputs": [
    {
     "name": "stdout",
     "output_type": "stream",
     "text": [
      "0\n"
     ]
    }
   ],
   "source": [
    "print(combined_df.index.duplicated().sum())  "
   ]
  },
  {
   "cell_type": "code",
   "execution_count": 41,
   "id": "bdc53ccb-0e29-47d1-b6ae-000c69dfd6c3",
   "metadata": {},
   "outputs": [
    {
     "name": "stdout",
     "output_type": "stream",
     "text": [
      "Columns containing NA values:\n",
      " GEO_Tumor_GSM1228184    True\n",
      "GEO_Tumor_GSM1228185    True\n",
      "GEO_Tumor_GSM1228186    True\n",
      "GEO_Tumor_GSM1228187    True\n",
      "GEO_Tumor_GSM1228188    True\n",
      "                        ... \n",
      "TCGA_Tumor_6601         True\n",
      "TCGA_Tumor_3672         True\n",
      "TCGA_Tumor_3524         True\n",
      "TCGA_Tumor_3715         True\n",
      "TCGA_Tumor_3531         True\n",
      "Length: 569, dtype: bool\n"
     ]
    }
   ],
   "source": [
    "columns_with_na = combined_df.isna().any()\n",
    "print(\"Columns containing NA values:\\n\", columns_with_na)"
   ]
  },
  {
   "cell_type": "code",
   "execution_count": 42,
   "id": "b3a73eaa-1fde-4f5c-b953-7ba24d8ec18e",
   "metadata": {
    "scrolled": true
   },
   "outputs": [
    {
     "name": "stdout",
     "output_type": "stream",
     "text": [
      "Columns containing NA values:\n",
      " GEO_Tumor_GSM1228184    False\n",
      "GEO_Tumor_GSM1228185    False\n",
      "GEO_Tumor_GSM1228186    False\n",
      "GEO_Tumor_GSM1228187    False\n",
      "GEO_Tumor_GSM1228188    False\n",
      "                        ...  \n",
      "TCGA_Tumor_6601         False\n",
      "TCGA_Tumor_3672         False\n",
      "TCGA_Tumor_3524         False\n",
      "TCGA_Tumor_3715         False\n",
      "TCGA_Tumor_3531         False\n",
      "Length: 569, dtype: bool\n"
     ]
    }
   ],
   "source": [
    "combined_df_filled = combined_df.fillna(0)\n",
    "columns_with_na = combined_df_filled.isna().any()\n",
    "print(\"Columns containing NA values:\\n\", columns_with_na)"
   ]
  },
  {
   "cell_type": "markdown",
   "id": "48a44e7a-a216-44e8-bab8-17e531d6c0fa",
   "metadata": {},
   "source": [
    "## Spliting Healthy from Trumour into two datasets and then applying median "
   ]
  },
  {
   "cell_type": "code",
   "execution_count": 44,
   "id": "129efb70-6021-435f-98bb-9163bf9b1abe",
   "metadata": {},
   "outputs": [],
   "source": [
    "# spliting by column name \n",
    "tumor_df   = combined_df_filled.loc[:, combined_df_filled.columns.str.contains(\"Tumor\")]\n",
    "healthy_df = combined_df_filled.loc[:, combined_df_filled.columns.str.contains(\"Healthy\")]"
   ]
  },
  {
   "cell_type": "code",
   "execution_count": 45,
   "id": "7174628c-6c8a-4219-9176-bcc80882fa34",
   "metadata": {},
   "outputs": [
    {
     "name": "stdout",
     "output_type": "stream",
     "text": [
      "Tumor shape: (40909, 507)\n",
      "Healthy shape: (40909, 59)\n"
     ]
    }
   ],
   "source": [
    "print(\"Tumor shape:\", tumor_df.shape)\n",
    "print(\"Healthy shape:\", healthy_df.shape)"
   ]
  },
  {
   "cell_type": "code",
   "execution_count": 46,
   "id": "39bca69b-c51e-4542-b9ce-962d4cd02875",
   "metadata": {},
   "outputs": [],
   "source": [
    "# saving data for future handling \n",
    "tumor_df.to_csv(\"tumor_expression_matrix.csv\")\n",
    "healthy_df.to_csv(\"healthy_expression_matrix.csv\")"
   ]
  },
  {
   "cell_type": "code",
   "execution_count": 47,
   "id": "b77426eb-7556-4fc8-915a-d83b1d38bc33",
   "metadata": {},
   "outputs": [],
   "source": [
    "# Single vector for Tumor and Healthy\n",
    "tumor_median   = tumor_df.median(axis=1)\n",
    "healthy_median = healthy_df.median(axis=1)"
   ]
  },
  {
   "cell_type": "code",
   "execution_count": 48,
   "id": "474b341a-28a5-4795-82d8-8742dc8737f2",
   "metadata": {
    "scrolled": true
   },
   "outputs": [
    {
     "data": {
      "text/plain": [
       "(array([2.3846e+04, 1.0730e+03, 7.7800e+02, 5.5800e+02, 5.0500e+02,\n",
       "        4.3300e+02, 3.8600e+02, 3.5300e+02, 3.2500e+02, 3.0600e+02,\n",
       "        2.7000e+02, 2.7100e+02, 2.9600e+02, 2.7400e+02, 2.9600e+02,\n",
       "        2.9000e+02, 3.2700e+02, 3.4000e+02, 3.0800e+02, 3.2100e+02,\n",
       "        3.7800e+02, 3.5500e+02, 4.0500e+02, 4.1900e+02, 3.9400e+02,\n",
       "        4.0200e+02, 4.4300e+02, 4.3900e+02, 4.2700e+02, 4.2200e+02,\n",
       "        4.0900e+02, 3.9800e+02, 4.2600e+02, 3.7300e+02, 3.4000e+02,\n",
       "        3.1500e+02, 3.1000e+02, 2.5400e+02, 2.4400e+02, 2.7600e+02,\n",
       "        2.2100e+02, 1.8800e+02, 1.8200e+02, 1.4300e+02, 1.4300e+02,\n",
       "        1.1800e+02, 1.2000e+02, 1.0800e+02, 9.7000e+01, 6.9000e+01,\n",
       "        6.1000e+01, 5.9000e+01, 5.0000e+01, 3.9000e+01, 3.4000e+01,\n",
       "        3.5000e+01, 3.9000e+01, 3.0000e+01, 2.1000e+01, 1.4000e+01,\n",
       "        1.7000e+01, 1.1000e+01, 1.5000e+01, 7.0000e+00, 1.2000e+01,\n",
       "        9.0000e+00, 1.0000e+01, 1.1000e+01, 8.0000e+00, 5.0000e+00,\n",
       "        7.0000e+00, 5.0000e+00, 4.0000e+00, 5.0000e+00, 0.0000e+00,\n",
       "        4.0000e+00, 3.0000e+00, 1.0000e+00, 2.0000e+00, 2.0000e+00,\n",
       "        2.0000e+00, 1.0000e+00, 0.0000e+00, 0.0000e+00, 1.0000e+00,\n",
       "        1.0000e+00, 1.0000e+00, 2.0000e+00, 0.0000e+00, 1.0000e+00,\n",
       "        1.0000e+00, 1.0000e+00, 0.0000e+00, 1.0000e+00, 1.0000e+00,\n",
       "        0.0000e+00, 1.0000e+00, 1.0000e+00]),\n",
       " array([ 0.        ,  0.1518624 ,  0.3037248 ,  0.45558721,  0.60744961,\n",
       "         0.75931201,  0.91117441,  1.06303681,  1.21489922,  1.36676162,\n",
       "         1.51862402,  1.67048642,  1.82234883,  1.97421123,  2.12607363,\n",
       "         2.27793603,  2.42979843,  2.58166084,  2.73352324,  2.88538564,\n",
       "         3.03724804,  3.18911044,  3.34097285,  3.49283525,  3.64469765,\n",
       "         3.79656005,  3.94842246,  4.10028486,  4.25214726,  4.40400966,\n",
       "         4.55587206,  4.70773447,  4.85959687,  5.01145927,  5.16332167,\n",
       "         5.31518407,  5.46704648,  5.61890888,  5.77077128,  5.92263368,\n",
       "         6.07449609,  6.22635849,  6.37822089,  6.53008329,  6.68194569,\n",
       "         6.8338081 ,  6.9856705 ,  7.1375329 ,  7.2893953 ,  7.4412577 ,\n",
       "         7.59312011,  7.74498251,  7.89684491,  8.04870731,  8.20056971,\n",
       "         8.35243212,  8.50429452,  8.65615692,  8.80801932,  8.95988173,\n",
       "         9.11174413,  9.26360653,  9.41546893,  9.56733133,  9.71919374,\n",
       "         9.87105614, 10.02291854, 10.17478094, 10.32664334, 10.47850575,\n",
       "        10.63036815, 10.78223055, 10.93409295, 11.08595536, 11.23781776,\n",
       "        11.38968016, 11.54154256, 11.69340496, 11.84526737, 11.99712977,\n",
       "        12.14899217, 12.30085457, 12.45271697, 12.60457938, 12.75644178,\n",
       "        12.90830418, 13.06016658, 13.21202899, 13.36389139, 13.51575379,\n",
       "        13.66761619, 13.81947859, 13.971341  , 14.1232034 , 14.2750658 ,\n",
       "        14.4269282 , 14.5787906 , 14.73065301, 14.88251541]),\n",
       " <BarContainer object of 98 artists>)"
      ]
     },
     "execution_count": 48,
     "metadata": {},
     "output_type": "execute_result"
    },
    {
     "data": {
      "image/png": "[encoded data removed]",
      "text/plain": [
       "<Figure size 1200x800 with 1 Axes>"
      ]
     },
     "metadata": {},
     "output_type": "display_data"
    }
   ],
   "source": [
    "# Values of distributions \n",
    "import matplotlib.pyplot as plt\n",
    "\n",
    "#Tumor data\n",
    "plt.figure(figsize=(12, 8))\n",
    "plt.hist(tumor_median, bins='auto', alpha=0.7, color='lightgreen', edgecolor='black')"
   ]
  },
  {
   "cell_type": "code",
   "execution_count": 49,
   "id": "fbe57356-9f2a-487b-a1b1-622e64e39c6d",
   "metadata": {
    "scrolled": true
   },
   "outputs": [
    {
     "data": {
      "text/plain": [
       "(array([2.3699e+04, 1.1540e+03, 7.5300e+02, 5.7000e+02, 4.9400e+02,\n",
       "        4.2000e+02, 3.8200e+02, 3.5200e+02, 3.1300e+02, 3.0400e+02,\n",
       "        3.0200e+02, 2.8400e+02, 3.2400e+02, 2.8600e+02, 3.0000e+02,\n",
       "        3.0400e+02, 3.2100e+02, 3.6000e+02, 3.1900e+02, 3.7100e+02,\n",
       "        3.2000e+02, 3.5700e+02, 3.6300e+02, 3.7600e+02, 3.8700e+02,\n",
       "        3.5700e+02, 4.1000e+02, 4.0000e+02, 4.0200e+02, 3.8400e+02,\n",
       "        3.8100e+02, 3.7300e+02, 3.6300e+02, 3.8000e+02, 3.5500e+02,\n",
       "        3.3100e+02, 2.9900e+02, 3.0300e+02, 2.6500e+02, 2.3600e+02,\n",
       "        2.3600e+02, 2.0200e+02, 1.8200e+02, 1.6300e+02, 1.4700e+02,\n",
       "        1.1300e+02, 1.3500e+02, 1.3200e+02, 1.0200e+02, 9.8000e+01,\n",
       "        1.0000e+02, 6.6000e+01, 5.7000e+01, 5.1000e+01, 5.9000e+01,\n",
       "        4.1000e+01, 4.0000e+01, 4.2000e+01, 2.9000e+01, 2.4000e+01,\n",
       "        1.8000e+01, 2.1000e+01, 1.6000e+01, 3.1000e+01, 2.5000e+01,\n",
       "        1.4000e+01, 1.0000e+01, 3.0000e+00, 1.2000e+01, 9.0000e+00,\n",
       "        6.0000e+00, 7.0000e+00, 7.0000e+00, 4.0000e+00, 5.0000e+00,\n",
       "        5.0000e+00, 7.0000e+00, 4.0000e+00, 2.0000e+00, 3.0000e+00,\n",
       "        1.0000e+00, 4.0000e+00, 2.0000e+00, 2.0000e+00, 0.0000e+00,\n",
       "        1.0000e+00, 3.0000e+00, 0.0000e+00, 3.0000e+00, 1.0000e+00,\n",
       "        1.0000e+00, 0.0000e+00, 0.0000e+00, 2.0000e+00, 0.0000e+00,\n",
       "        1.0000e+00, 2.0000e+00, 0.0000e+00, 0.0000e+00, 0.0000e+00,\n",
       "        1.0000e+00, 0.0000e+00, 0.0000e+00, 3.0000e+00]),\n",
       " array([ 0.        ,  0.14597241,  0.29194482,  0.43791723,  0.58388965,\n",
       "         0.72986206,  0.87583447,  1.02180688,  1.16777929,  1.3137517 ,\n",
       "         1.45972412,  1.60569653,  1.75166894,  1.89764135,  2.04361376,\n",
       "         2.18958617,  2.33555858,  2.481531  ,  2.62750341,  2.77347582,\n",
       "         2.91944823,  3.06542064,  3.21139305,  3.35736547,  3.50333788,\n",
       "         3.64931029,  3.7952827 ,  3.94125511,  4.08722752,  4.23319994,\n",
       "         4.37917235,  4.52514476,  4.67111717,  4.81708958,  4.96306199,\n",
       "         5.1090344 ,  5.25500682,  5.40097923,  5.54695164,  5.69292405,\n",
       "         5.83889646,  5.98486887,  6.13084129,  6.2768137 ,  6.42278611,\n",
       "         6.56875852,  6.71473093,  6.86070334,  7.00667575,  7.15264817,\n",
       "         7.29862058,  7.44459299,  7.5905654 ,  7.73653781,  7.88251022,\n",
       "         8.02848264,  8.17445505,  8.32042746,  8.46639987,  8.61237228,\n",
       "         8.75834469,  8.9043171 ,  9.05028952,  9.19626193,  9.34223434,\n",
       "         9.48820675,  9.63417916,  9.78015157,  9.92612399, 10.0720964 ,\n",
       "        10.21806881, 10.36404122, 10.51001363, 10.65598604, 10.80195846,\n",
       "        10.94793087, 11.09390328, 11.23987569, 11.3858481 , 11.53182051,\n",
       "        11.67779292, 11.82376534, 11.96973775, 12.11571016, 12.26168257,\n",
       "        12.40765498, 12.55362739, 12.69959981, 12.84557222, 12.99154463,\n",
       "        13.13751704, 13.28348945, 13.42946186, 13.57543427, 13.72140669,\n",
       "        13.8673791 , 14.01335151, 14.15932392, 14.30529633, 14.45126874,\n",
       "        14.59724116, 14.74321357, 14.88918598, 15.03515839, 15.1811308 ]),\n",
       " <BarContainer object of 104 artists>)"
      ]
     },
     "execution_count": 49,
     "metadata": {},
     "output_type": "execute_result"
    },
    {
     "data": {
      "image/png": "[encoded data removed]",
      "text/plain": [
       "<Figure size 1200x800 with 1 Axes>"
      ]
     },
     "metadata": {},
     "output_type": "display_data"
    }
   ],
   "source": [
    "# Healthy data \n",
    "plt.figure(figsize=(12, 8))\n",
    "plt.hist(healthy_median, bins='auto', alpha=0.7, color='lightgreen', edgecolor='black')"
   ]
  },
  {
   "cell_type": "markdown",
   "id": "51e06a9b-333a-45e1-8e3e-caca593bd98a",
   "metadata": {},
   "source": [
    "## GEM model"
   ]
  },
  {
   "cell_type": "code",
   "execution_count": 51,
   "id": "35c178d1-d88a-47fe-9b67-c3c645d253bf",
   "metadata": {},
   "outputs": [],
   "source": [
    "from cobra.io import read_sbml_model\n",
    "\n",
    "gem_model = read_sbml_model(\"Human-GEM.xml\") "
   ]
  },
  {
   "cell_type": "code",
   "execution_count": 53,
   "id": "d4cad51d-545b-4718-b2c8-a9d994bf7b6c",
   "metadata": {},
   "outputs": [
    {
     "name": "stdout",
     "output_type": "stream",
     "text": [
      "HumanGEM\n",
      "Reactions: 12971\n",
      "Genes: 2887\n"
     ]
    }
   ],
   "source": [
    "# Model \n",
    "print(gem_model)\n",
    "print(f\"Reactions: {len(gem_model.reactions)}\")\n",
    "print(f\"Genes: {len(gem_model.genes)}\")"
   ]
  },
  {
   "cell_type": "markdown",
   "id": "50be3753-ab81-4c49-83b6-f70721945555",
   "metadata": {},
   "source": [
    "## Exporting data to use use it in Matlab"
   ]
  },
  {
   "cell_type": "code",
   "execution_count": 56,
   "id": "30ac49c4-818d-4b2c-871d-50a7f1dcd2a5",
   "metadata": {},
   "outputs": [],
   "source": [
    "tumor_median.to_csv(\"tumor_median_matrix.csv\")\n",
    "healthy_median.to_csv(\"healthy_median_matrix.csv\")"
   ]
  },
  {
   "cell_type": "code",
   "execution_count": null,
   "id": "9fc308b3-6c91-4084-9b60-f6a305135c53",
   "metadata": {},
   "outputs": [],
   "source": []
  }
 ],
 "metadata": {
  "kernelspec": {
   "display_name": "Python [conda env:base] *",
   "language": "python",
   "name": "conda-base-py"
  },
  "language_info": {
   "codemirror_mode": {
    "name": "ipython",
    "version": 3
   },
   "file_extension": ".py",
   "mimetype": "text/x-python",
   "name": "python",
   "nbconvert_exporter": "python",
   "pygments_lexer": "ipython3",
   "version": "3.12.7"
  }
 },
 "nbformat": 4,
 "nbformat_minor": 5
}
